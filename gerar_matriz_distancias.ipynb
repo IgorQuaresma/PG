{
 "cells": [
  {
   "cell_type": "code",
   "execution_count": 69,
   "metadata": {},
   "outputs": [],
   "source": [
    "def gerar_matriz_distancias(nome_arquivo_entrada,nome_arquivo_saida):\n",
    "    \"\"\"Essa função deve ser utilizada com a tabela gerada pelo ARCGIS. Essa tabela deve estar na forma:\n",
    "    OBJECTID\tName\tOriginID\tDestinationID\tDestinationRank\tTotal_Length\tShape_Length\n",
    "\"\"\"\n",
    "    #Argumentos\n",
    "    #nome_arquivo_entrada - refere-se ao nome do arquivo (tabela excel) gerado pelo arcgis, esse nome não deve incluir a extensao do arquivo\n",
    "    #nome_arquivo_saida - refere-se ao nome do arquivo (tabela excel) que será gerado com as distancias entre os man e pas\n",
    "    \n",
    "    import pandas as pd\n",
    "    import numpy as np\n",
    "    \n",
    "    \n",
    "    #Ler arquivo\n",
    "    df = pd.read_excel(nome_arquivo_entrada+'.xls')\n",
    "    \n",
    "    \n",
    "    #Deletar colunas que n'ao ser'ao utilizadas na geracao da matriz \n",
    "    df.drop(['OBJECTID', 'OriginID', 'DestinationID', 'DestinationRank','Shape_Length'], axis =1, inplace = True)\n",
    "    \n",
    "    \n",
    "    #Limpar o sinal de - na coluna nome e gerar colunas MAN e PA\n",
    "    df['MAN'] = df['Name'].apply(lambda x: x.split()[0])\n",
    "    df['PA'] = df['Name'].apply(lambda x : x.split()[2])\n",
    "    \n",
    "    \n",
    "    #Renomear coluna Total_Length (m) para Distancia_m\n",
    "    df.rename({'Total_Length': 'Distancia_m' }, axis = 1, inplace = True)\n",
    "    \n",
    "    \n",
    "    #reordenar ordem colunas \n",
    "    df = df[['Name','MAN','PA','Distancia_m']]\n",
    "    \n",
    "    \n",
    "    #Definir campos dos manancias e pas como numericos \n",
    "    df['MAN'] = df['MAN'].astype('int')\n",
    "    df['PA'] = df['PA'].astype('int')\n",
    "    df['Distancia_m'] = df['Distancia_m'].astype('float')\n",
    "    \n",
    "    \n",
    "    #Gerar arquivo com a matriz\n",
    "    matriz_distancias = df.pivot(index = 'PA', columns = 'MAN', values = 'Distancia_m')\n",
    "    \n",
    "    \n",
    "    #Salvar matriz gerada em arquivo excel \n",
    "    matriz_distancias_excel = matriz_distancias.to_excel(nome_arquivo_saida+'.xls')\n",
    "    \n",
    "    #imprimir matriz na tela\n",
    "    return matriz_distancias\n",
    "    "
   ]
  },
  {
   "cell_type": "code",
   "execution_count": null,
   "metadata": {},
   "outputs": [],
   "source": []
  },
  {
   "cell_type": "code",
   "execution_count": null,
   "metadata": {},
   "outputs": [],
   "source": []
  },
  {
   "cell_type": "code",
   "execution_count": null,
   "metadata": {},
   "outputs": [],
   "source": []
  }
 ],
 "metadata": {
  "kernelspec": {
   "display_name": "Python 3",
   "language": "python",
   "name": "python3"
  },
  "language_info": {
   "codemirror_mode": {
    "name": "ipython",
    "version": 3
   },
   "file_extension": ".py",
   "mimetype": "text/x-python",
   "name": "python",
   "nbconvert_exporter": "python",
   "pygments_lexer": "ipython3",
   "version": "3.7.3"
  }
 },
 "nbformat": 4,
 "nbformat_minor": 2
}
